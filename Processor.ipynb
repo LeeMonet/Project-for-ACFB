{
 "cells": [
  {
   "cell_type": "markdown",
   "metadata": {},
   "source": [
    "# Atlanta Food Bank Data Project\n",
    "see README for instructions"
   ]
  },
  {
   "cell_type": "markdown",
   "metadata": {},
   "source": [
    "## Clean FRL Data\n",
    "Cleans FRL data obtained from DOE website and saves as FRL.csv. Only run if you do not have a current FRL.csv file.\n"
   ]
  },
  {
   "cell_type": "code",
   "execution_count": null,
   "metadata": {},
   "outputs": [],
   "source": [
    "filename = \"Free Reduced Lunch (FRL) Fiscal Year2016 Data Report.csv\" #PUT THE NAME OF THE DOE FRL DATA HERE\n",
    "\n",
    "from data_automation import cleanData\n",
    "cleanData(filename)"
   ]
  },
  {
   "cell_type": "markdown",
   "metadata": {},
   "source": [
    "## Process Breakfast Data\n",
    "Fills in \"...Breakfast DOE 2016\" document with FRL data and breakfast data"
   ]
  },
  {
   "cell_type": "code",
   "execution_count": 1,
   "metadata": {
    "collapsed": true
   },
   "outputs": [],
   "source": [
    "from data_automation import Data_Processor\n",
    "dp = Data_Processor(\"breakfast_data\", \"partial_sort\")"
   ]
  },
  {
   "cell_type": "code",
   "execution_count": 2,
   "metadata": {
    "scrolled": true
   },
   "outputs": [
    {
     "name": "stdout",
     "output_type": "stream",
     "text": [
      "breakfast_data/Appling Breakfast Participation (18).pdf\n",
      "success\n"
     ]
    }
   ],
   "source": [
    "dp.process_folder()\n"
   ]
  },
  {
   "cell_type": "markdown",
   "metadata": {},
   "source": [
    "Run the next cell to see which counties were missing FRL Values"
   ]
  },
  {
   "cell_type": "code",
   "execution_count": 3,
   "metadata": {},
   "outputs": [
    {
     "name": "stdout",
     "output_type": "stream",
     "text": [
      "The following counties have atleast one school without FRL value: \n"
     ]
    },
    {
     "data": {
      "text/plain": [
       "[]"
      ]
     },
     "execution_count": 3,
     "metadata": {},
     "output_type": "execute_result"
    }
   ],
   "source": [
    "print \"The following counties have atleast one school without FRL value: \"\n",
    "dp.frl_errors"
   ]
  },
  {
   "cell_type": "markdown",
   "metadata": {},
   "source": [
    "## Process Lunch Data\n",
    "produces final \"...Breakfast DOE 2016\" Document, Breakfast Scorecard, and Breakfast Report Card."
   ]
  },
  {
   "cell_type": "code",
   "execution_count": 4,
   "metadata": {
    "scrolled": false
   },
   "outputs": [
    {
     "name": "stdout",
     "output_type": "stream",
     "text": [
      "lunch_data/Appling LnchPrtCostReport.pdf\n",
      "success\n"
     ]
    }
   ],
   "source": [
    "dp.process_lunch_folder(\"lunch_data\", \"sorted_data\")\n"
   ]
  }
 ],
 "metadata": {
  "kernelspec": {
   "display_name": "Python 2",
   "language": "python",
   "name": "python2"
  },
  "language_info": {
   "codemirror_mode": {
    "name": "ipython",
    "version": 2
   },
   "file_extension": ".py",
   "mimetype": "text/x-python",
   "name": "python",
   "nbconvert_exporter": "python",
   "pygments_lexer": "ipython2",
   "version": "2.7.14"
  }
 },
 "nbformat": 4,
 "nbformat_minor": 2
}
